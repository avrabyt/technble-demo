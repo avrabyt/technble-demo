{
 "cells": [
  {
   "cell_type": "markdown",
   "metadata": {},
   "source": [
    "# PART 1 - Introduction\n",
    "----------------------\n",
    "Hi :wave:, I'm **Avra**! Incase you are worried about today's code stuffs :wink:, it's all **open-sourced** :zap: \n",
    ":pencil: Go to this url - https://github.com/avrabyt/technble-demo/blob/main/ml.ipynb . Feel free to AMA - I'll try to answer - only if I know otherwise we google together :)\n",
    "\n",
    "-----------\n",
    "\n",
    "##  :heavy_check_mark: Prerequisites\n",
    ":white_check_mark: **Python** installed from https://www.python.org\n",
    "\n",
    ":white_check_mark: **Windows** users can install using Anaconda https://www.anaconda.com\n",
    "\n",
    ":white_check_mark: **IDE/Editor** - for example VS code - https://code.visualstudio.com [I'm using Jupyter extension within VS Code]. You can use **Jupyter Notebook** directly. Alternatively Google Collab works well .\n",
    "\n",
    "\n",
    "-------------------------------\n",
    "\n",
    "\n",
    "## :sparkles: Ready for a QuickStart ?\n",
    ":books: Clone or download the repository for later usage from here - https://github.com/avrabyt/technble-demo\n",
    "\n",
    "\n",
    "------------------\n"
   ]
  },
  {
   "cell_type": "markdown",
   "metadata": {},
   "source": [
    "## :arrow_down: Installing dependencies "
   ]
  },
  {
   "cell_type": "markdown",
   "metadata": {},
   "source": [
    "### :recycle: Commonly `pip` or `pip3` is used to install the dependencies [using terminal / powershell / gitbash]\n",
    "\n",
    "### For **windows** user I would recommend using virtual conda environment.\n",
    "```console\n",
    "1. conda create --name demo python==3.9\n",
    "2. pip install <packagename>\n",
    "\n"
   ]
  },
  {
   "cell_type": "code",
   "execution_count": null,
   "metadata": {},
   "outputs": [],
   "source": [
    "# pip install pandas\n",
    "# pip install scikit-learn\n",
    "# pip install numpy"
   ]
  },
  {
   "cell_type": "markdown",
   "metadata": {},
   "source": [
    "-----------------------------"
   ]
  },
  {
   "cell_type": "markdown",
   "metadata": {},
   "source": [
    "# PART 2 - Writing codes\n",
    "\n",
    "## :package: Importing the packages "
   ]
  },
  {
   "cell_type": "code",
   "execution_count": null,
   "metadata": {},
   "outputs": [],
   "source": [
    "import pandas as pd\n",
    "import numpy as np\n",
    "from sklearn.neighbors import KNeighborsClassifier\n",
    "from sklearn.model_selection import train_test_split\n",
    "import matplotlib.pyplot as plt\n",
    "import plotly.express as px"
   ]
  },
  {
   "cell_type": "markdown",
   "metadata": {},
   "source": [
    "## :zap: Loading data "
   ]
  },
  {
   "cell_type": "code",
   "execution_count": null,
   "metadata": {},
   "outputs": [],
   "source": [
    "df = pd.read_csv('Data/players_20.csv')\n",
    "df.head()"
   ]
  },
  {
   "cell_type": "markdown",
   "metadata": {},
   "source": [
    "## :art: Data exploration + Data cleaning "
   ]
  },
  {
   "cell_type": "markdown",
   "metadata": {},
   "source": [
    "#### 1. Visulazing and planning"
   ]
  },
  {
   "cell_type": "code",
   "execution_count": null,
   "metadata": {},
   "outputs": [],
   "source": [
    "# df.player_positions.value_counts().plot(kind = 'pie')"
   ]
  },
  {
   "cell_type": "markdown",
   "metadata": {},
   "source": [
    "#### 2. Data manipulating"
   ]
  },
  {
   "cell_type": "code",
   "execution_count": null,
   "metadata": {},
   "outputs": [],
   "source": [
    "# Convert the current 27 positions into 4 main position disciplines, Attacker, Midfielder, Defender, Goalkeeper\n",
    "\n",
    "# First remove commas from the column \n",
    "df['player_positions']=df['player_positions'].str.replace(',','')\n",
    "df['player_positions'] = df['player_positions'].astype(str).str.split().str[0]\n",
    "#\n",
    "att = dict.fromkeys(['ST', 'LW', 'RW', 'LS', 'RS', 'CF', 'RF', 'LF'], 'Attacker')\n",
    "mid = dict.fromkeys(['CM', 'RM', 'LM', 'CAM', 'CDM', 'LCM', 'RCM', 'RDM', 'LDM', 'RAM', 'LAM'], 'Midfielder')\n",
    "dfnc = dict.fromkeys(['CB', 'LB', 'RB', 'RCB', 'LCB', 'RWB', 'LWB' ], 'Defender')\n",
    "\n",
    "df.player_positions.replace('GK', 'Goalkeeper', inplace=True)\n",
    "df.player_positions.replace(att, inplace=True)\n",
    "df.player_positions.replace(mid, inplace=True)\n",
    "df.player_positions.replace(dfnc, inplace=True)\n",
    "# df.to_csv('players_20_commaremoved.csv')"
   ]
  },
  {
   "cell_type": "markdown",
   "metadata": {},
   "source": [
    "#### 3. Visualizing Data (USING MATPLOTLIP MODULE)"
   ]
  },
  {
   "cell_type": "code",
   "execution_count": null,
   "metadata": {},
   "outputs": [],
   "source": [
    "df.player_positions.value_counts().plot(kind = 'pie',\n",
    "                                autopct = '%0.1f%%',\n",
    "                                shadow = True,\n",
    "                                cmap = 'Set3'\n",
    "                                )\n",
    "plt.title('Position Representation\\n', fontsize = 16 )\n",
    "plt.xlabel('')\n",
    "plt.ylabel('')\n",
    "plt.axis('equal')\n",
    "plt.show()                                "
   ]
  },
  {
   "cell_type": "code",
   "execution_count": null,
   "metadata": {},
   "outputs": [],
   "source": [
    "# remove goal keeper from dataset\n",
    "df = df[df['player_positions'] != 'Goalkeeper']\n",
    "df.player_positions.value_counts().plot(kind = 'pie',\n",
    "                                autopct = '%0.1f%%',\n",
    "                                shadow = True,\n",
    "                                cmap = 'Set3'\n",
    "                                )\n",
    "plt.title('Position Representation\\n', fontsize = 16 )\n",
    "plt.xlabel('')\n",
    "plt.ylabel('')\n",
    "plt.axis('equal')\n",
    "plt.show()"
   ]
  },
  {
   "cell_type": "code",
   "execution_count": null,
   "metadata": {},
   "outputs": [],
   "source": [
    "# Combining Midfielder and Attacker into one\n",
    "df['position'] = df['player_positions'].apply(lambda x: 'defense' if 'Defender' in x else 'midfield')\n",
    "# df.to_csv('pos.csv')\n",
    "df.position.value_counts().plot(kind = 'pie',autopct = '%0.1f%%',shadow = True, cmap = 'Set3')\n"
   ]
  },
  {
   "cell_type": "markdown",
   "metadata": {},
   "source": [
    "BONUS : Using PLOTLY MODULE"
   ]
  },
  {
   "cell_type": "code",
   "execution_count": null,
   "metadata": {},
   "outputs": [],
   "source": [
    "px.scatter(data_frame=df, x='attacking_finishing',y = 'dribbling',color='player_positions')"
   ]
  },
  {
   "cell_type": "markdown",
   "metadata": {},
   "source": [
    "### :hammer: Filtering and visualizing"
   ]
  },
  {
   "cell_type": "code",
   "execution_count": null,
   "metadata": {},
   "outputs": [],
   "source": [
    "# rslt_df = df[df['position'] == 'defense']\n",
    "# rslt_df[['long_name', 'position']] \n"
   ]
  },
  {
   "cell_type": "markdown",
   "metadata": {},
   "source": [
    "-----------------\n",
    "# Part 3 - ML MODEL\n",
    "\n",
    "--------------\n",
    "\n",
    "## :construction: Preparing the Model "
   ]
  },
  {
   "cell_type": "markdown",
   "metadata": {},
   "source": [
    "#### A. **Features** :lipstick: "
   ]
  },
  {
   "cell_type": "code",
   "execution_count": null,
   "metadata": {},
   "outputs": [],
   "source": [
    "df = df[['position', 'shooting','passing','dribbling','defending']]\n",
    "print(df.head(5))\n",
    "X  = df.drop('position', axis=1).values\n",
    "print(X)\n",
    "y  = df['position'].values\n",
    "print(y)"
   ]
  },
  {
   "cell_type": "markdown",
   "metadata": {},
   "source": [
    "#### B. **Splitting data** :rotating_light:"
   ]
  },
  {
   "cell_type": "code",
   "execution_count": null,
   "metadata": {},
   "outputs": [],
   "source": [
    "X_train, X_test, y_train, y_test = train_test_split(X, y, test_size = 0.4, stratify=y)\n"
   ]
  },
  {
   "cell_type": "markdown",
   "metadata": {},
   "source": [
    "This stratify parameter makes a split so that the proportion of values in the sample produced will be the same as the proportion of values provided to parameter stratify.\n",
    "\n",
    "For example, if variable y is a binary categorical variable with values 0 and 1 and there are 25% of zeros and 75% of ones, stratify=y will make sure that your random split has 25% of 0's and 75% of 1's."
   ]
  },
  {
   "cell_type": "markdown",
   "metadata": {},
   "source": [
    "#### C. **\"K-Nearest Neighbor Algorithim\"** :racehorse:"
   ]
  },
  {
   "cell_type": "code",
   "execution_count": null,
   "metadata": {},
   "outputs": [],
   "source": [
    "knn = KNeighborsClassifier(n_neighbors=5)\n",
    "knn.fit(X_train, y_train)\n",
    "print(knn.score(X_test, y_test))"
   ]
  },
  {
   "cell_type": "markdown",
   "metadata": {},
   "source": [
    "#### D. **TEST YOUR MODEL WITH NEW INPUTS** :white_check_mark: "
   ]
  },
  {
   "cell_type": "code",
   "execution_count": null,
   "metadata": {},
   "outputs": [],
   "source": [
    "van_deijk = np.array([[60,71,72,91]])\n",
    "print(knn.predict(van_deijk)) \n",
    "\n",
    "ronaldo = np.array([[92,79,86,44]])\n",
    "print(knn.predict(ronaldo))\n",
    "\n",
    "benzema = np.array([[86,81,87,39]])\n",
    "print(knn.predict(benzema))\n",
    "\n",
    "mbpape = np.array([[88,80,92,36]])\n",
    "print(knn.predict(mbpape)) \n",
    "\n",
    "bruno = np.array([[86,89,84,70]])\n",
    "print(knn.predict(bruno))\n",
    "\n",
    "varane = np.array([[49,64,65,87]])\n",
    "print(knn.predict(varane))\n",
    "\n",
    "xx = np.array([[54,78,80,81]])\n",
    "print(knn.predict(xx))"
   ]
  },
  {
   "cell_type": "markdown",
   "metadata": {},
   "source": [
    "------------\n",
    "# Part 4 - Converting into Web App \n",
    "------------\n",
    "\n",
    "## :sparkles: How about converting this script into a full-fledged web app ? -- **ENTIRELY USING PYTHON** :rocket:\n",
    "\n",
    "---------------\n",
    "### Extras"
   ]
  },
  {
   "cell_type": "code",
   "execution_count": null,
   "metadata": {},
   "outputs": [],
   "source": [
    "# Identify the best value for K using the elbow method\n",
    "# The elbow method plots the error rate of a range of K values\n",
    "error_rate = []\n",
    "\n",
    "# Set the range of potential K values\n",
    "# Run KNN for each K in the range\n",
    "for i in range(1,32,2):\n",
    "   \n",
    "    knn = KNeighborsClassifier(n_neighbors = i)\n",
    "    fit = knn.fit(X_train, y_train)\n",
    "    pred_i = fit.predict(X_test)\n",
    "    # Record the error value \n",
    "    error_rate.append(np.mean(pred_i != y_test))\n",
    "\n",
    "    \n",
    "# Plot the error rates and choose a K value\n",
    "plt.plot(range(1,32,2), \n",
    "         error_rate,\n",
    "         color = 'blue', \n",
    "         linestyle = 'dashed',\n",
    "         markerfacecolor = 'red',\n",
    "         marker = 'o',\n",
    "         markersize = 5)\n",
    "plt.title('Error Rate vs. K Value')\n",
    "plt.xlabel('K')\n",
    "plt.ylabel('Error Rate')\n",
    "plt.show()"
   ]
  },
  {
   "cell_type": "markdown",
   "metadata": {},
   "source": [
    "Resources\n",
    "1. https://charlieojackson.co.uk/python/predicting-football-positions.php?fbclid=IwAR34jqESq_86XzCuVtn7E9SgN4t3nQHhQMWscpjvrthagEG0fufHOCazFjs\n",
    "2. https://www.kaggle.com/code/bennyf/player-position-classification/notebook?fbclid=IwAR34d_eC313oW0rkNQL3jTb0F_Oozs7zGuVwCCWatZf-gGjsWtu4mlEltN8\n",
    "\n",
    "Data \n",
    "- https://www.kaggle.com/datasets/stefanoleone992/fifa-22-complete-player-dataset?select=players_22.csv\n",
    "- https://www.kaggle.com/datasets/stefanoleone992/fifa-20-complete-player-dataset\n"
   ]
  }
 ],
 "metadata": {
  "kernelspec": {
   "display_name": "Python 3.9.2 64-bit",
   "language": "python",
   "name": "python3"
  },
  "language_info": {
   "codemirror_mode": {
    "name": "ipython",
    "version": 3
   },
   "file_extension": ".py",
   "mimetype": "text/x-python",
   "name": "python",
   "nbconvert_exporter": "python",
   "pygments_lexer": "ipython3",
   "version": "3.9.2"
  },
  "orig_nbformat": 4,
  "vscode": {
   "interpreter": {
    "hash": "949777d72b0d2535278d3dc13498b2535136f6dfe0678499012e853ee9abcab1"
   }
  }
 },
 "nbformat": 4,
 "nbformat_minor": 2
}
